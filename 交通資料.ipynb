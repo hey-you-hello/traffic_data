{
  "nbformat": 4,
  "nbformat_minor": 0,
  "metadata": {
    "colab": {
      "provenance": [],
      "mount_file_id": "18hOXv97NlrRxom9Ws0t8KJwJZuaqBIBH",
      "authorship_tag": "ABX9TyOzhksoN2t2xYtHpojfHevr",
      "include_colab_link": true
    },
    "kernelspec": {
      "name": "python3",
      "display_name": "Python 3"
    },
    "language_info": {
      "name": "python"
    }
  },
  "cells": [
    {
      "cell_type": "markdown",
      "metadata": {
        "id": "view-in-github",
        "colab_type": "text"
      },
      "source": [
        "<a href=\"https://colab.research.google.com/github/hey-you-hello/traffic_data/blob/main/%E4%BA%A4%E9%80%9A%E8%B3%87%E6%96%99.ipynb\" target=\"_parent\"><img src=\"https://colab.research.google.com/assets/colab-badge.svg\" alt=\"Open In Colab\"/></a>"
      ]
    },
    {
      "cell_type": "code",
      "execution_count": 62,
      "metadata": {
        "id": "3Vbfigso-c1E",
        "colab": {
          "base_uri": "https://localhost:8080/"
        },
        "outputId": "199e9f9e-f906-4a59-eb63-708d7320fdaa"
      },
      "outputs": [
        {
          "output_type": "stream",
          "name": "stderr",
          "text": [
            "<ipython-input-62-e2d3345bfb72>:4: DtypeWarning: Columns (0) have mixed types. Specify dtype option on import or set low_memory=False.\n",
            "  data=pd.read_csv(path)\n"
          ]
        },
        {
          "output_type": "stream",
          "name": "stdout",
          "text": [
            "總出事：79824\n",
            "機車出事件數：42497\n",
            "機車出事率：53.24%\n",
            "小客車出事件數：19856\n",
            "小客車出事率：24.87%\n",
            "人出事件數：7224\n",
            "人出事率：9.05%\n",
            "nan出事件數：4240\n",
            "nan出事率：5.31%\n",
            "慢車出事件數：1981\n",
            "慢車出事率：2.48%\n",
            "小貨車(含客、貨兩用)出事件數：3069\n",
            "小貨車(含客、貨兩用)出事率：3.84%\n",
            "大客車出事件數：247\n",
            "大客車出事率：0.31%\n",
            "曳引車出事件數：123\n",
            "曳引車出事率：0.15%\n",
            "特種車出事件數：28\n",
            "特種車出事率：0.04%\n",
            "大貨車出事件數：409\n",
            "大貨車出事率：0.51%\n",
            "其他車出事件數：76\n",
            "其他車出事率：0.10%\n",
            "半聯結車出事件數：53\n",
            "半聯結車出事率：0.07%\n",
            "軍車出事件數：9\n",
            "軍車出事率：0.01%\n",
            "全聯結車出事件數：12\n",
            "全聯結車出事率：0.02%\n",
            "大部分在圓環廣場出事\n",
            "肇事原因:\n",
            "   未注意車前狀態,有364筆\n",
            "   未依規定讓車,有205筆\n",
            "   酒醉(後)駕駛失控,有32筆\n",
            "   尚未發現肇事因素,有499筆\n",
            "   不明原因肇事,有114筆\n",
            "   違反號誌管制或指揮,有86筆\n",
            "   左轉彎未依規定,有116筆\n",
            "   其他引起事故之違規或不當行為,有151筆\n",
            "   未保持行車安全距離,有24筆\n",
            "   違反特定標誌(線)禁制,有53筆\n",
            "   橫越道路不慎,有29筆\n",
            "   變換車道或方向不當,有31筆\n",
            "   未依規定減速,有53筆\n",
            "   未靠右行駛,有19筆\n",
            "   逆向行駛,有35筆\n",
            "   起步未注意其他車(人)安全,有38筆\n",
            "   違規停車或暫停不當而肇事,有5筆\n",
            "   疲勞(患病)駕駛失控,有6筆\n",
            "   違規超車,有7筆\n",
            "   未保持行車安全間隔,有54筆\n",
            "   其他引起事故之故障,有5筆\n",
            "   右轉彎未依規定,有6筆\n",
            "   搶越行人穿越道,有2筆\n",
            "   未依規定使用燈光,有4筆\n",
            "   煞車失靈,有7筆\n",
            "   夜間行駛無燈光設備,有6筆\n",
            "   爭(搶)道行駛,有2筆\n",
            "   使用手持行動電話失控,有3筆\n",
            "   迴轉未依規定,有15筆\n",
            "   蛇行、方向不定,有5筆\n",
            "   超速失控,有2筆\n",
            "   燈光系統故障,有1筆\n",
            "   貨物超長、寬、高而肇事,有1筆\n",
            "   其他交通管制不當,有1筆\n",
            "有防護率58.15%\n"
          ]
        }
      ],
      "source": [
        "import pandas as pd\n",
        "from collections import Counter\n",
        "path=\"/content/drive/MyDrive/112年度A2交通事故資料_1.csv\"\n",
        "data=pd.read_csv(path)\n",
        "bcdata=data['當事者區分-類別-大類別名稱-車種']\n",
        "print(f\"總出事：{len(data)}\")\n",
        "for n in Counter(bcdata):\n",
        "    print(f'{n}出事件數：{Counter(bcdata)[n]}')\n",
        "\n",
        "    print(f\"{n}出事率：{Counter(bcdata)[n]/len(data)*100:.2f}%\")\n",
        "bycycle=data[data['當事者區分-類別-大類別名稱-車種']==\"慢車\"]\n",
        "print(f\"大部分在{max(Counter(bycycle['道路型態大類別名稱']))}出事\")\n",
        "reason=Counter(bycycle['肇因研判子類別名稱-個別'])\n",
        "\n",
        "print(f\"肇事原因:\")\n",
        "for n in reason:\n",
        "\n",
        "  print(f\"   {n},有{reason[n]}筆\")\n",
        "have_protect=len(bycycle[bycycle['保護裝備名稱']==\"戴安全帽或繫安全帶(使用幼童安全椅)\"])\n",
        "print(f\"有防護率{have_protect/len(bycycle)*100:.2f}%\")"
      ]
    },
    {
      "cell_type": "code",
      "source": [],
      "metadata": {
        "id": "UgCqdr1xCf8w"
      },
      "execution_count": null,
      "outputs": []
    }
  ]
}